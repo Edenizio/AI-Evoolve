{
  "cells": [
    {
      "cell_type": "code",
      "execution_count": null,
      "metadata": {
        "id": "ku0ui5lKwpF7"
      },
      "outputs": [],
      "source": [
        "!python3 -m pip install -U git+https://github.com/facebookresearch/audiocraft#egg=audiocraft\n",
        "# !python3 -m pip install -U audiocraft"
      ]
    },
    {
      "cell_type": "code",
      "execution_count": null,
      "metadata": {
        "id": "YVgeUMjoZaJH"
      },
      "outputs": [],
      "source": [
        "from audiocraft.models import musicgen\n",
        "from audiocraft.utils.notebook import display_audio\n",
        "import torch"
      ]
    },
    {
      "cell_type": "code",
      "execution_count": null,
      "metadata": {
        "id": "yc_FYhbWZufi"
      },
      "outputs": [],
      "source": [
        "model = musicgen.MusicGen.get_pretrained('medium', device='cuda')\n",
        "model.set_generation_params(duration=8)"
      ]
    },
    {
      "cell_type": "code",
      "execution_count": null,
      "metadata": {
        "id": "32g-tH7IZz5N"
      },
      "outputs": [],
      "source": [
        "res = model.generate([\n",
        "    'crazy EDM, heavy bang',\n",
        "    'classic reggae track with an electronic guitar solo',\n",
        "    'lofi slow bpm electro chill with organic samples',\n",
        "    'rock with saturated guitars, a heavy bass line and crazy drum break and fills.',\n",
        "    'earthy tones, environmentally conscious, ukulele-infused, harmonic, breezy, easygoing, organic instrumentation, gentle grooves',\n",
        "    'A caribbean song with high vibrant sounds'\n",
        "],\n",
        "    progress=True)\n",
        "display_audio(res, 32000)"
      ]
    },
    {
      "cell_type": "markdown",
      "metadata": {
        "id": "yP3FfELNw6_k"
      },
      "source": [
        "Repo https://github.com/facebookresearch/audiocraft"
      ]
    },
    {
      "cell_type": "code",
      "execution_count": null,
      "metadata": {
        "id": "LMEhDDBWo-BS"
      },
      "outputs": [],
      "source": [
        "from IPython import display as ipd\n",
        "from audiocraft.models import musicgen\n",
        "from audiocraft.utils.notebook import display_audio\n",
        "import torch\n",
        "import torchaudio\n",
        "import os\n",
        "import warnings\n",
        "warnings.filterwarnings(\"ignore\")\n",
        "# Definir output dir\n",
        "output_dir= r=\"./\"\n",
        "\n",
        "model= musicgen.MusicGen.get_pretrained(\"medium\", device=\"cuda\")\n",
        "model.set_generation_params(duration=30)\n",
        "\n",
        "res= model.generate([\n",
        "    'crazy EDM, heavy bang',\n",
        "    'classic reggae track with an electronic guitar solo',\n",
        "    'lofi slow bpm electro chill with organic samples',\n",
        "    'rock with saturated guitars, a heavy bass line and crazy drum break and fills.',\n",
        "    'earthy tones, environmentally conscious, ukulele-infused, harmonic, breezy, easygoing, organic instrumentation, gentle grooves',\n",
        "    'A caribbean song with high vibrant sounds'\n",
        "    ], progress=True)\n",
        "\n",
        "# Guardar los audio files\n",
        "\n",
        "for i, audio in enumerate(res):\n",
        "  audio_cpu= audio.cpu()\n",
        "  file_path= os.path.join(output_dir, f\"audio_{i}.wav\")\n",
        "  torchaudio.save(file_path, audio_cpu, smaple_rate=32000)\n",
        "\n",
        "# Display loas audio files\n",
        "for i in range(len(res)):\n",
        "\tfile_path= os.path.join(output_dir, f\"audio_{i}.wav\")\n",
        "\taudio, sample_rate= torchaudio.load(file_path)\n",
        "\tdisplay_audio(audio,sample_rate= sample_rate)"
      ]
    },
    {
      "cell_type": "code",
      "execution_count": null,
      "metadata": {
        "id": "rojR90c5xFMY"
      },
      "outputs": [],
      "source": []
    }
  ],
  "metadata": {
    "accelerator": "GPU",
    "colab": {
      "gpuType": "T4",
      "provenance": []
    },
    "kernelspec": {
      "display_name": "Python 3",
      "name": "python3"
    },
    "language_info": {
      "codemirror_mode": {
        "name": "ipython",
        "version": 3
      },
      "file_extension": ".py",
      "mimetype": "text/x-python",
      "name": "python",
      "nbconvert_exporter": "python",
      "pygments_lexer": "ipython3",
      "version": "3.10.9"
    }
  },
  "nbformat": 4,
  "nbformat_minor": 0
}
